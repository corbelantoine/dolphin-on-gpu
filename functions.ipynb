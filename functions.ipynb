{
 "cells": [
  {
   "cell_type": "code",
   "execution_count": 79,
   "metadata": {},
   "outputs": [],
   "source": [
    "import numpy as np\n",
    "import json\n",
    "from pathlib import Path\n",
    "import os\n",
    "import requests\n",
    "from datetime import datetime\n",
    "import datetime as dtt\n",
    "\n",
    "def get_returns(candle):\n",
    "    rendements = []\n",
    "    for j in range(len(candle) - 1):\n",
    "        j1 = candle[j]\n",
    "        j2 = candle[j + 1]\n",
    "        cash_flow = 0\n",
    "        if \"cash_flow\" in j2:\n",
    "            cash_flow = j2[\"cash_flow\"]\n",
    "        r = (j2[\"close\"] - j1[\"close\"] + cash_flow)/j1[\"close\"]\n",
    "        rendements.append(r)\n",
    "    return np.array(rendements)\n",
    "    \n",
    "def get_vol(candle):\n",
    "    closes = np.array([x[\"open\"] for x in candles])\n",
    "    return get_returns(candles).var() * 100\n",
    "    \n",
    "def get_volatility(id, start, end):\n",
    "    param = {\"ratio\": [18], \"asset\": [id], \"start_date\": start, \"end_date\": end}\n",
    "    s = requests.Session()\n",
    "    s.auth = ('epita_user_6', 'dolphin39833')\n",
    "    s.body = param\n",
    "    r = s.post(\"https://dolphin.jump-technology.com:3389/api/v1/ratio/invoke\", data = json.dumps(param), verify=False)\n",
    "    r = r.json()\n",
    "    print(r)\n",
    "    \n",
    "    \n",
    "def pull_data():\n",
    "    s = requests.Session()\n",
    "    s.auth = ('epita_user_6', 'dolphin39833')\n",
    "    r = s.get(\"https://dolphin.jump-technology.com:3389/api/v1/asset\", verify=False)\n",
    "    data = r.json()\n",
    "    ids = [a[\"ASSET_DATABASE_ID\"] for a in data]\n",
    "    for i in ids:\n",
    "        print(i[\"value\"])\n",
    "        p = Path(\"data/\" + i[\"value\"])\n",
    "        if not p.exists():\n",
    "            f = open(\"data/\" + i[\"value\"], \"w\")\n",
    "            r = s.get(\"https://dolphin.jump-technology.com:3389/api/v1/asset/\" + i[\"value\"] + \"/quote\", verify=False)\n",
    "            candles = r.json()\n",
    "            f.write(json.dumps(candles))\n",
    "            f.close()\n",
    "    \n",
    "    \n",
    "def dateInPeriod(date, start, end):\n",
    "    #start = datetime.strptime(start, \"%Y-%m-%d\")\n",
    "    #end = datetime.strptime(end, \"%Y-%m-%d\")\n",
    "    if date >= start and date <= end:\n",
    "        return True\n",
    "    return False\n",
    "    \n",
    "    \n",
    "def cleanData(vector, start, end):\n",
    "    temp = []\n",
    "    for e in vector:\n",
    "        e[0] = datetime.strptime(e[0], \"%Y-%m-%d\")\n",
    "        if (dateInPeriod(e[0], start, end)):\n",
    "            temp.append(e)\n",
    "    \n",
    "    cleaned = []\n",
    "    prev = temp[0][0]\n",
    "    s = start\n",
    "    while s != prev:\n",
    "        cleaned.append(temp[0][1])\n",
    "        s = s + dtt.timedelta(days=1)\n",
    "    cleaned.append(temp[0][1])\n",
    "\n",
    "    for e in temp[1:]:\n",
    "        while e[0] != prev + dtt.timedelta(days=1):\n",
    "            cleaned.append(e[1])\n",
    "            prev = prev + dtt.timedelta(days=1)\n",
    "        cleaned.append(e[1])\n",
    "        prev = e[0]\n",
    "    while prev < end:\n",
    "        cleaned.append(temp[-1][1])\n",
    "        prev = prev + dtt.timedelta(days=1)\n",
    "    return cleaned\n",
    "    \n",
    "def getMatrix(date_start, date_end):\n",
    "    mat = []\n",
    "    for root, dirs, files in os.walk(\"data/\"):\n",
    "        for f in files:\n",
    "            if not f.startswith(\".\"):\n",
    "                fi = open(os.path.join(root, f))\n",
    "                v = fi.readlines()[0]\n",
    "                v = json.loads(v)\n",
    "                ds = datetime.strptime(v[0][\"date\"], \"%Y-%m-%d\")\n",
    "                de = datetime.strptime(v[-1][\"date\"], \"%Y-%m-%d\")\n",
    "                if ds <= date_start and de >= date_end:\n",
    "                    v = cleanData([[x[\"date\"], float(x[\"close\"])] for x in v], date_start, date_end)\n",
    "                    v = np.array(v)\n",
    "                    mat.append(v)\n",
    "                #else:\n",
    "                #    print(\"Can't take file \", f, \" because starts at \", ds, \" and end at \", de)\n",
    "                fi.close()\n",
    "               \n",
    "    return np.array(mat)\n",
    "\n",
    "\n",
    "#pull_data()\n",
    "    \n",
    "#def volatility(candle):\n",
    "#def sharpe(candle):"
   ]
  },
  {
   "cell_type": "code",
   "execution_count": 47,
   "metadata": {},
   "outputs": [
    {
     "name": "stderr",
     "output_type": "stream",
     "text": [
      "/Users/Antoine/anaconda3/lib/python3.5/site-packages/urllib3/connectionpool.py:858: InsecureRequestWarning: Unverified HTTPS request is being made. Adding certificate verification is strongly advised. See: https://urllib3.readthedocs.io/en/latest/advanced-usage.html#ssl-warnings\n",
      "  InsecureRequestWarning)\n",
      "/Users/Antoine/anaconda3/lib/python3.5/site-packages/urllib3/connectionpool.py:858: InsecureRequestWarning: Unverified HTTPS request is being made. Adding certificate verification is strongly advised. See: https://urllib3.readthedocs.io/en/latest/advanced-usage.html#ssl-warnings\n",
      "  InsecureRequestWarning)\n"
     ]
    },
    {
     "name": "stdout",
     "output_type": "stream",
     "text": [
      "{'value': '315', 'type': 'int32'}\n"
     ]
    }
   ],
   "source": [
    "import requests\n",
    "\n",
    "s = requests.Session()\n",
    "s.auth = ('epita_user_6', 'dolphin39833')\n",
    "r = s.get(\"https://dolphin.jump-technology.com:3389/api/v1/asset\", verify=False)\n",
    "data = r.json()\n",
    "ids = [a[\"ASSET_DATABASE_ID\"] for a in data]\n",
    "i = ids[0]\n",
    "r = s.get(\"https://dolphin.jump-technology.com:3389/api/v1/asset/\" + i[\"value\"] + \"/quote\", verify=False)\n",
    "candles = r.json()"
   ]
  },
  {
   "cell_type": "code",
   "execution_count": 99,
   "metadata": {},
   "outputs": [
    {
     "name": "stdout",
     "output_type": "stream",
     "text": [
      "0.0330155999393\n"
     ]
    },
    {
     "name": "stderr",
     "output_type": "stream",
     "text": [
      "/Users/Antoine/anaconda3/lib/python3.5/site-packages/urllib3/connectionpool.py:858: InsecureRequestWarning: Unverified HTTPS request is being made. Adding certificate verification is strongly advised. See: https://urllib3.readthedocs.io/en/latest/advanced-usage.html#ssl-warnings\n",
      "  InsecureRequestWarning)\n"
     ]
    },
    {
     "name": "stdout",
     "output_type": "stream",
     "text": [
      "{'315': {'18': {'value': '0,288442914506', 'type': 'percent'}}}\n"
     ]
    }
   ],
   "source": [
    "get_returns(candles).mean()\n",
    "print(get_vol(candles))\n",
    "get_volatility(i[\"value\"], candles[0][\"date\"], candles[-1][\"date\"])"
   ]
  },
  {
   "cell_type": "code",
   "execution_count": 39,
   "metadata": {},
   "outputs": [
    {
     "data": {
      "text/plain": [
       "8.4319540625874421"
      ]
     },
     "execution_count": 39,
     "metadata": {},
     "output_type": "execute_result"
    }
   ],
   "source": [
    "np.sqrt(np.array([x[\"close\"] for x in candles]).var())"
   ]
  },
  {
   "cell_type": "code",
   "execution_count": 91,
   "metadata": {},
   "outputs": [
    {
     "data": {
      "text/plain": [
       "2.8312444772164156"
      ]
     },
     "execution_count": 91,
     "metadata": {},
     "output_type": "execute_result"
    }
   ],
   "source": [
    "returns = get_returns(candles)\n",
    "np.sqrt(np.abs(np.log(np.var(returns))))"
   ]
  },
  {
   "cell_type": "code",
   "execution_count": 80,
   "metadata": {},
   "outputs": [
    {
     "data": {
      "text/plain": [
       "array([ 0.        , -0.00763359, -0.01538462, ..., -0.00306686,\n",
       "       -0.00041017,  0.01415675])"
      ]
     },
     "execution_count": 80,
     "metadata": {},
     "output_type": "execute_result"
    }
   ],
   "source": [
    "get_returns(candles)"
   ]
  },
  {
   "cell_type": "code",
   "execution_count": 88,
   "metadata": {},
   "outputs": [
    {
     "data": {
      "text/plain": [
       "array([[ 577.21960903,  198.83898832,  118.19372171, ...,   -5.37746714,\n",
       "         171.6893691 ,   24.71168031],\n",
       "       [ 198.83898832,  218.06453665,    2.39551423, ...,   -9.11176311,\n",
       "          79.54541199,   12.7653513 ],\n",
       "       [ 118.19372171,    2.39551423,  144.9466318 , ...,   32.60628136,\n",
       "          19.13360553,   -1.34621958],\n",
       "       ..., \n",
       "       [  -5.37746714,   -9.11176311,   32.60628136, ...,   11.67917023,\n",
       "          -6.87981588,    0.87903832],\n",
       "       [ 171.6893691 ,   79.54541199,   19.13360553, ...,   -6.87981588,\n",
       "          60.07476948,    7.73301196],\n",
       "       [  24.71168031,   12.7653513 ,   -1.34621958, ...,    0.87903832,\n",
       "           7.73301196,   57.8102725 ]])"
      ]
     },
     "execution_count": 88,
     "metadata": {},
     "output_type": "execute_result"
    }
   ],
   "source": [
    "mat = getMatrix(datetime.strptime(\"2007-01-03\", \"%Y-%m-%d\"), datetime.strptime(\"2017-06-30\", \"%Y-%m-%d\"))\n",
    "np.cov(mat)"
   ]
  },
  {
   "cell_type": "code",
   "execution_count": 89,
   "metadata": {},
   "outputs": [
    {
     "name": "stdout",
     "output_type": "stream",
     "text": [
      "(416, 3832)\n"
     ]
    }
   ],
   "source": [
    "print(mat.shape)"
   ]
  },
  {
   "cell_type": "code",
   "execution_count": 39,
   "metadata": {},
   "outputs": [
    {
     "data": {
      "text/plain": [
       "datetime.datetime(2007, 1, 3, 0, 0)"
      ]
     },
     "execution_count": 39,
     "metadata": {},
     "output_type": "execute_result"
    }
   ],
   "source": [
    "datetime.strptime(\"2007-01-02\", \"%Y-%m-%d\") + dtt.timedelta(days=1)"
   ]
  },
  {
   "cell_type": "code",
   "execution_count": 93,
   "metadata": {},
   "outputs": [
    {
     "data": {
      "text/plain": [
       "array([[ 577.21960903,  198.83898832,  118.19372171, ...,   -5.37746714,\n",
       "         171.6893691 ,   24.71168031],\n",
       "       [ 198.83898832,  218.06453665,    2.39551423, ...,   -9.11176311,\n",
       "          79.54541199,   12.7653513 ],\n",
       "       [ 118.19372171,    2.39551423,  144.9466318 , ...,   32.60628136,\n",
       "          19.13360553,   -1.34621958],\n",
       "       ..., \n",
       "       [  -5.37746714,   -9.11176311,   32.60628136, ...,   11.67917023,\n",
       "          -6.87981588,    0.87903832],\n",
       "       [ 171.6893691 ,   79.54541199,   19.13360553, ...,   -6.87981588,\n",
       "          60.07476948,    7.73301196],\n",
       "       [  24.71168031,   12.7653513 ,   -1.34621958, ...,    0.87903832,\n",
       "           7.73301196,   57.8102725 ]])"
      ]
     },
     "execution_count": 93,
     "metadata": {},
     "output_type": "execute_result"
    }
   ],
   "source": [
    "np.cov(mat)"
   ]
  },
  {
   "cell_type": "code",
   "execution_count": null,
   "metadata": {
    "collapsed": true
   },
   "outputs": [],
   "source": []
  }
 ],
 "metadata": {
  "kernelspec": {
   "display_name": "Python 3",
   "language": "python",
   "name": "python3"
  },
  "language_info": {
   "codemirror_mode": {
    "name": "ipython",
    "version": 3
   },
   "file_extension": ".py",
   "mimetype": "text/x-python",
   "name": "python",
   "nbconvert_exporter": "python",
   "pygments_lexer": "ipython3",
   "version": "3.5.4"
  }
 },
 "nbformat": 4,
 "nbformat_minor": 2
}
