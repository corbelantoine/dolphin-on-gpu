{
 "cells": [
  {
   "cell_type": "code",
   "execution_count": 5,
   "metadata": {},
   "outputs": [],
   "source": [
    "import urllib3\n",
    "import datetime\n",
    "urllib3.disable_warnings()"
   ]
  },
  {
   "cell_type": "code",
   "execution_count": 6,
   "metadata": {},
   "outputs": [],
   "source": [
    "import numpy as np\n",
    "import json\n",
    "from pathlib import Path\n",
    "import os\n",
    "import requests\n",
    "from datetime import datetime\n",
    "import datetime as dtt\n",
    "\n",
    "def get_returns(candle):\n",
    "    rendements = []\n",
    "    for j in range(len(candle) - 1):\n",
    "        j1 = candle[j]\n",
    "        j2 = candle[j + 1]\n",
    "        cash_flow = 0\n",
    "        if \"cash_flow\" in j2:\n",
    "            cash_flow = j2[\"cash_flow\"]\n",
    "        r = (j2[\"close\"] - j1[\"close\"] + cash_flow)/j1[\"close\"]\n",
    "        rendements.append(r)\n",
    "    return np.array(rendements)\n",
    "    \n",
    "def get_vol(candle):\n",
    "    closes = np.array([x[\"open\"] for x in candles])\n",
    "    return get_returns(candles).var() * 100\n",
    "    \n",
    "def get_volatility(id, start, end):\n",
    "    param = {\"ratio\": [18], \"asset\": [id], \"start_date\": start, \"end_date\": end}\n",
    "    s = requests.Session()\n",
    "    s.auth = ('epita_user_6', 'dolphin39833')\n",
    "    s.body = param\n",
    "    r = s.post(\"https://dolphin.jump-technology.com:3389/api/v1/ratio/invoke\", data = json.dumps(param), verify=False)\n",
    "    r = r.json()\n",
    "    print(r)\n",
    "    \n",
    "    \n",
    "def pull_data():\n",
    "    s = requests.Session()\n",
    "    s.auth = ('epita_user_6', 'dolphin39833')\n",
    "    r = s.get(\"https://dolphin.jump-technology.com:3389/api/v1/asset\", verify=False)\n",
    "    data = r.json()\n",
    "    ids = [a[\"ASSET_DATABASE_ID\"] for a in data]\n",
    "    for i in ids:\n",
    "#        print(i[\"value\"])\n",
    "        p = Path(\"data/raw/\" + i[\"value\"])\n",
    "        if not p.exists():\n",
    "            f = open(\"data/raw/\" + i[\"value\"], \"w\")\n",
    "            r = s.get(\"https://dolphin.jump-technology.com:3389/api/v1/asset/\" + i[\"value\"] + \"/quote\", verify=False)\n",
    "            candles = r.json()\n",
    "            f.write(json.dumps(candles))\n",
    "            f.close()\n",
    "    \n",
    "    \n",
    "def dateInPeriod(date, start, end):\n",
    "    #start = datetime.strptime(start, \"%Y-%m-%d\")\n",
    "    #end = datetime.strptime(end, \"%Y-%m-%d\")\n",
    "    if date >= start and date <= end:\n",
    "        return True\n",
    "    return False\n",
    "    \n",
    "    \n",
    "def cleanData(path):\n",
    "    fi = open(path, \"r\")\n",
    "    data = fi.readlines()[0]\n",
    "    data = json.loads(data)\n",
    "\n",
    "    start_date = data[0][\"date\"]\n",
    "    end_date = data[-1][\"date\"]\n",
    "    \n",
    "    cleaned = [[data[0][\"date\"], data[0][\"close\"]]]\n",
    "    prev = datetime.strptime(data[0][\"date\"], \"%Y-%m-%d\")\n",
    "\n",
    "    for e in data[1:]:\n",
    "        diff = (datetime.strptime(e[\"date\"], \"%Y-%m-%d\") - prev).days\n",
    "        prev_val = cleaned[-1][1]\n",
    "        for i in range(1, diff + 1):\n",
    "            prev = prev + dtt.timedelta(days=1)\n",
    "            tmp = [datetime.strftime(prev, \"%Y-%m-%d\"), prev_val + i * (e[\"close\"] - prev_val) / diff]\n",
    "            cleaned.append(tmp)\n",
    "        prev = datetime.strptime(e[\"date\"], \"%Y-%m-%d\")\n",
    "        \n",
    "    fo = open(\"data/cleaned/\" + path.split(\"/\")[-1], \"w\")\n",
    "    fo.write(json.dumps(cleaned))\n",
    "    \n",
    "def getMatrix(date_start, date_end):\n",
    "    mat = []\n",
    "    for root, dirs, files in os.walk(\"data/\"):\n",
    "        for f in files:\n",
    "            if not f.startswith(\".\"):\n",
    "                fi = open(os.path.join(root, f))\n",
    "                v = fi.readlines()[0]\n",
    "                v = json.loads(v)\n",
    "                ds = datetime.strptime(v[0][\"date\"], \"%Y-%m-%d\")\n",
    "                de = datetime.strptime(v[-1][\"date\"], \"%Y-%m-%d\")\n",
    "                if ds <= date_start and de >= date_end:\n",
    "                    v = cleanData([[x[\"date\"], float(x[\"close\"])] for x in v], date_start, date_end)\n",
    "                    v = np.array(v)\n",
    "                    mat.append(v)\n",
    "                #else:\n",
    "                #    print(\"Can't take file \", f, \" because starts at \", ds, \" and end at \", de)\n",
    "                fi.close()\n",
    "               \n",
    "    return np.array(mat)\n",
    "\n",
    "\n",
    "#pull_data()\n",
    "    \n",
    "#def volatility(candle):\n",
    "#def sharpe(candle):"
   ]
  },
  {
   "cell_type": "code",
   "execution_count": 9,
   "metadata": {},
   "outputs": [],
   "source": [
    "import requests\n",
    "\n",
    "s = requests.Session()\n",
    "s.auth = ('epita_user_6', 'dolphin39833')\n",
    "r = s.get(\"https://dolphin.jump-technology.com:3389/api/v1/asset\", verify=False)\n",
    "data = r.json()\n",
    "ids = [a[\"ASSET_DATABASE_ID\"] for a in data]\n",
    "i = ids[0]\n",
    "r = s.get(\"https://dolphin.jump-technology.com:3389/api/v1/asset/\" + i[\"value\"] + \"/quote\", verify=False)\n",
    "candles = r.json()"
   ]
  },
  {
   "cell_type": "code",
   "execution_count": 10,
   "metadata": {},
   "outputs": [
    {
     "ename": "FileNotFoundError",
     "evalue": "[Errno 2] No such file or directory: 'data/cleaned/135'",
     "output_type": "error",
     "traceback": [
      "\u001b[0;31m-----------------------------------------------------------\u001b[0m",
      "\u001b[0;31mFileNotFoundError\u001b[0m         Traceback (most recent call last)",
      "\u001b[0;32m<ipython-input-10-96a78e031265>\u001b[0m in \u001b[0;36m<module>\u001b[0;34m()\u001b[0m\n\u001b[1;32m      3\u001b[0m         \u001b[0;32mfor\u001b[0m \u001b[0mf\u001b[0m \u001b[0;32min\u001b[0m \u001b[0mfiles\u001b[0m\u001b[0;34m:\u001b[0m\u001b[0;34m\u001b[0m\u001b[0m\n\u001b[1;32m      4\u001b[0m             \u001b[0;32mif\u001b[0m \u001b[0;32mnot\u001b[0m \u001b[0mf\u001b[0m\u001b[0;34m.\u001b[0m\u001b[0mstartswith\u001b[0m\u001b[0;34m(\u001b[0m\u001b[0;34m\".\"\u001b[0m\u001b[0;34m)\u001b[0m\u001b[0;34m:\u001b[0m\u001b[0;34m\u001b[0m\u001b[0m\n\u001b[0;32m----> 5\u001b[0;31m                 \u001b[0mcleanData\u001b[0m\u001b[0;34m(\u001b[0m\u001b[0mos\u001b[0m\u001b[0;34m.\u001b[0m\u001b[0mpath\u001b[0m\u001b[0;34m.\u001b[0m\u001b[0mjoin\u001b[0m\u001b[0;34m(\u001b[0m\u001b[0mroot\u001b[0m\u001b[0;34m,\u001b[0m \u001b[0mf\u001b[0m\u001b[0;34m)\u001b[0m\u001b[0;34m)\u001b[0m\u001b[0;34m\u001b[0m\u001b[0m\n\u001b[0m",
      "\u001b[0;32m<ipython-input-6-14a96d20a5a9>\u001b[0m in \u001b[0;36mcleanData\u001b[0;34m(path)\u001b[0m\n\u001b[1;32m     78\u001b[0m         \u001b[0mprev\u001b[0m \u001b[0;34m=\u001b[0m \u001b[0mdatetime\u001b[0m\u001b[0;34m.\u001b[0m\u001b[0mstrptime\u001b[0m\u001b[0;34m(\u001b[0m\u001b[0me\u001b[0m\u001b[0;34m[\u001b[0m\u001b[0;34m\"date\"\u001b[0m\u001b[0;34m]\u001b[0m\u001b[0;34m,\u001b[0m \u001b[0;34m\"%Y-%m-%d\"\u001b[0m\u001b[0;34m)\u001b[0m\u001b[0;34m\u001b[0m\u001b[0m\n\u001b[1;32m     79\u001b[0m \u001b[0;34m\u001b[0m\u001b[0m\n\u001b[0;32m---> 80\u001b[0;31m     \u001b[0mfo\u001b[0m \u001b[0;34m=\u001b[0m \u001b[0mopen\u001b[0m\u001b[0;34m(\u001b[0m\u001b[0;34m\"data/cleaned/\"\u001b[0m \u001b[0;34m+\u001b[0m \u001b[0mpath\u001b[0m\u001b[0;34m.\u001b[0m\u001b[0msplit\u001b[0m\u001b[0;34m(\u001b[0m\u001b[0;34m\"/\"\u001b[0m\u001b[0;34m)\u001b[0m\u001b[0;34m[\u001b[0m\u001b[0;34m-\u001b[0m\u001b[0;36m1\u001b[0m\u001b[0;34m]\u001b[0m\u001b[0;34m,\u001b[0m \u001b[0;34m\"w\"\u001b[0m\u001b[0;34m)\u001b[0m\u001b[0;34m\u001b[0m\u001b[0m\n\u001b[0m\u001b[1;32m     81\u001b[0m     \u001b[0mfo\u001b[0m\u001b[0;34m.\u001b[0m\u001b[0mwrite\u001b[0m\u001b[0;34m(\u001b[0m\u001b[0mjson\u001b[0m\u001b[0;34m.\u001b[0m\u001b[0mdumps\u001b[0m\u001b[0;34m(\u001b[0m\u001b[0mcleaned\u001b[0m\u001b[0;34m)\u001b[0m\u001b[0;34m)\u001b[0m\u001b[0;34m\u001b[0m\u001b[0m\n\u001b[1;32m     82\u001b[0m \u001b[0;34m\u001b[0m\u001b[0m\n",
      "\u001b[0;31mFileNotFoundError\u001b[0m: [Errno 2] No such file or directory: 'data/cleaned/135'"
     ]
    }
   ],
   "source": [
    "pull_data()"
   ]
  },
  {
   "cell_type": "code",
   "execution_count": 12,
   "metadata": {},
   "outputs": [
    {
     "ename": "IndexError",
     "evalue": "list index out of range",
     "output_type": "error",
     "traceback": [
      "\u001b[0;31m-----------------------------------------------------------\u001b[0m",
      "\u001b[0;31mIndexError\u001b[0m                Traceback (most recent call last)",
      "\u001b[0;32m<ipython-input-12-947734e2cf55>\u001b[0m in \u001b[0;36m<module>\u001b[0;34m()\u001b[0m\n\u001b[1;32m      2\u001b[0m         \u001b[0;32mfor\u001b[0m \u001b[0mf\u001b[0m \u001b[0;32min\u001b[0m \u001b[0mfiles\u001b[0m\u001b[0;34m:\u001b[0m\u001b[0;34m\u001b[0m\u001b[0m\n\u001b[1;32m      3\u001b[0m             \u001b[0;32mif\u001b[0m \u001b[0;32mnot\u001b[0m \u001b[0mf\u001b[0m\u001b[0;34m.\u001b[0m\u001b[0mstartswith\u001b[0m\u001b[0;34m(\u001b[0m\u001b[0;34m\".\"\u001b[0m\u001b[0;34m)\u001b[0m\u001b[0;34m:\u001b[0m\u001b[0;34m\u001b[0m\u001b[0m\n\u001b[0;32m----> 4\u001b[0;31m                 \u001b[0mcleanData\u001b[0m\u001b[0;34m(\u001b[0m\u001b[0mos\u001b[0m\u001b[0;34m.\u001b[0m\u001b[0mpath\u001b[0m\u001b[0;34m.\u001b[0m\u001b[0mjoin\u001b[0m\u001b[0;34m(\u001b[0m\u001b[0mroot\u001b[0m\u001b[0;34m,\u001b[0m \u001b[0mf\u001b[0m\u001b[0;34m)\u001b[0m\u001b[0;34m)\u001b[0m\u001b[0;34m\u001b[0m\u001b[0m\n\u001b[0m",
      "\u001b[0;32m<ipython-input-6-14a96d20a5a9>\u001b[0m in \u001b[0;36mcleanData\u001b[0;34m(path)\u001b[0m\n\u001b[1;32m     60\u001b[0m \u001b[0;32mdef\u001b[0m \u001b[0mcleanData\u001b[0m\u001b[0;34m(\u001b[0m\u001b[0mpath\u001b[0m\u001b[0;34m)\u001b[0m\u001b[0;34m:\u001b[0m\u001b[0;34m\u001b[0m\u001b[0m\n\u001b[1;32m     61\u001b[0m     \u001b[0mfi\u001b[0m \u001b[0;34m=\u001b[0m \u001b[0mopen\u001b[0m\u001b[0;34m(\u001b[0m\u001b[0mpath\u001b[0m\u001b[0;34m,\u001b[0m \u001b[0;34m\"r\"\u001b[0m\u001b[0;34m)\u001b[0m\u001b[0;34m\u001b[0m\u001b[0m\n\u001b[0;32m---> 62\u001b[0;31m     \u001b[0mdata\u001b[0m \u001b[0;34m=\u001b[0m \u001b[0mfi\u001b[0m\u001b[0;34m.\u001b[0m\u001b[0mreadlines\u001b[0m\u001b[0;34m(\u001b[0m\u001b[0;34m)\u001b[0m\u001b[0;34m[\u001b[0m\u001b[0;36m0\u001b[0m\u001b[0;34m]\u001b[0m\u001b[0;34m\u001b[0m\u001b[0m\n\u001b[0m\u001b[1;32m     63\u001b[0m     \u001b[0mdata\u001b[0m \u001b[0;34m=\u001b[0m \u001b[0mjson\u001b[0m\u001b[0;34m.\u001b[0m\u001b[0mloads\u001b[0m\u001b[0;34m(\u001b[0m\u001b[0mdata\u001b[0m\u001b[0;34m)\u001b[0m\u001b[0;34m\u001b[0m\u001b[0m\n\u001b[1;32m     64\u001b[0m \u001b[0;34m\u001b[0m\u001b[0m\n",
      "\u001b[0;31mIndexError\u001b[0m: list index out of range"
     ]
    }
   ],
   "source": [
    "for root, dirs, files in os.walk(\"data/raw/\"):\n",
    "        for f in files:\n",
    "            if not f.startswith(\".\"):\n",
    "                cleanData(os.path.join(root, f))"
   ]
  },
  {
   "cell_type": "code",
   "execution_count": null,
   "metadata": {},
   "outputs": [],
   "source": []
  }
 ],
 "metadata": {
  "kernelspec": {
   "display_name": "Python 3",
   "language": "python",
   "name": "python3"
  },
  "language_info": {
   "codemirror_mode": {
    "name": "ipython",
    "version": 3
   },
   "file_extension": ".py",
   "mimetype": "text/x-python",
   "name": "python",
   "nbconvert_exporter": "python",
   "pygments_lexer": "ipython3",
   "version": "3.6.1"
  }
 },
 "nbformat": 4,
 "nbformat_minor": 2
}
