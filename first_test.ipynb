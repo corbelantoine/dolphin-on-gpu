{
 "cells": [
  {
   "cell_type": "code",
   "execution_count": 1,
   "metadata": {
    "collapsed": true
   },
   "outputs": [],
   "source": [
    "import urllib3\n",
    "urllib3.disable_warnings()"
   ]
  },
  {
   "cell_type": "code",
   "execution_count": 2,
   "metadata": {},
   "outputs": [],
   "source": [
    "import requests\n",
    "\n",
    "s = requests.Session()\n",
    "s.auth = ('epita_user_6', 'dolphin39833')\n",
    "r = s.get(\"https://dolphin.jump-technology.com:3389/api/v1/asset\", verify=False)\n",
    "\n",
    "data = r.json()"
   ]
  },
  {
   "cell_type": "code",
   "execution_count": 4,
   "metadata": {},
   "outputs": [
    {
     "name": "stdout",
     "output_type": "stream",
     "text": [
      "528\n"
     ]
    }
   ],
   "source": [
    "ids = [a[\"ASSET_DATABASE_ID\"] for a in data]\n",
    "print(len(ids))"
   ]
  },
  {
   "cell_type": "code",
   "execution_count": 6,
   "metadata": {},
   "outputs": [
    {
     "name": "stdout",
     "output_type": "stream",
     "text": [
      "\n",
      "5677\n",
      "{'date': '1995-01-03', 'nav': 32.75, 'gross': 32.75, 'volume': 745700.0, 'high': 32.875, 'feed_source': 3.0, 'low': 32.5, 'ask': 32.875, 'pl': 0.0, 'bid': 32.625, 'close': 32.75, 'return': 0.0, 'open': 32.5}\n",
      "\n",
      "2641\n",
      "{'date': '2007-01-02', 'nav': 144.11, 'gross': 144.11, 'feed_source': 3.0, 'pl': 0.0, 'close': 144.11, 'return': 0.0}\n",
      "\n",
      "5738\n",
      "{'date': '1995-01-03', 'nav': 88.8778, 'gross': 88.8778, 'volume': 24300.0, 'high': 89.1827, 'feed_source': 3.0, 'low': 87.5057, 'ask': 89.0302, 'pl': 0.0, 'bid': 88.8778, 'close': 88.8778, 'return': 0.0, 'open': 88.4204}\n",
      "\n",
      "5495\n",
      "{'date': '1995-11-17', 'nav': 38.679, 'gross': 38.679, 'volume': 306900.0, 'high': 39.267, 'feed_source': 3.0, 'low': 38.603, 'ask': 38.679, 'pl': 0.0, 'bid': 38.628, 'close': 38.679, 'return': 0.0, 'open': 39.114}\n",
      "\n",
      "5659\n",
      "{'date': '1995-01-03', 'nav': 29.5625, 'gross': 29.5625, 'high': 30.5, 'feed_source': 3.0, 'low': 29.5, 'ask': 29.75, 'pl': 0.0, 'bid': 29.5, 'close': 29.5625, 'return': 0.0, 'open': 30.0}\n"
     ]
    }
   ],
   "source": [
    "for i in ids[:5]:\n",
    "    print()\n",
    "    r = s.get(\"https://dolphin.jump-technology.com:3389/api/v1/asset/\" + i[\"value\"] + \"/quote\", verify=False)\n",
    "    print(len(r.json()))\n",
    "    print(r.json()[0])"
   ]
  },
  {
   "cell_type": "code",
   "execution_count": null,
   "metadata": {
    "collapsed": true
   },
   "outputs": [],
   "source": []
  }
 ],
 "metadata": {
  "kernelspec": {
   "display_name": "Python 3",
   "language": "python",
   "name": "python3"
  },
  "language_info": {
   "codemirror_mode": {
    "name": "ipython",
    "version": 3
   },
   "file_extension": ".py",
   "mimetype": "text/x-python",
   "name": "python",
   "nbconvert_exporter": "python",
   "pygments_lexer": "ipython3",
   "version": "3.6.1"
  }
 },
 "nbformat": 4,
 "nbformat_minor": 2
}
