{
 "cells": [
  {
   "cell_type": "code",
   "execution_count": 78,
   "metadata": {
    "collapsed": true
   },
   "outputs": [],
   "source": [
    "import requests\n",
    "\n",
    "s = requests.Session()\n",
    "s.auth = ('epita_user_6', 'dolphin39833')"
   ]
  },
  {
   "cell_type": "code",
   "execution_count": 30,
   "metadata": {},
   "outputs": [
    {
     "name": "stderr",
     "output_type": "stream",
     "text": [
      "/Users/Antoine/anaconda3/lib/python3.5/site-packages/urllib3/connectionpool.py:858: InsecureRequestWarning: Unverified HTTPS request is being made. Adding certificate verification is strongly advised. See: https://urllib3.readthedocs.io/en/latest/advanced-usage.html#ssl-warnings\n",
      "  InsecureRequestWarning)\n"
     ]
    }
   ],
   "source": [
    "url = \"https://dolphin.jump-technology.com:3389/api/v1/asset?columns=ASSET_DATABASE_ID&columns=LABEL&columns=TYPE&TYPE=PORTFOLIO\"\n",
    "r = s.get(url, verify=False)\n",
    "id = r.json()[0][\"ASSET_DATABASE_ID\"][\"value\"]"
   ]
  },
  {
   "cell_type": "code",
   "execution_count": 96,
   "metadata": {},
   "outputs": [],
   "source": [
    "assets = [(21588, 104), (1473, 132), (1036, 107), (3284, 103), (5943, 11), (15363, 152), (4118, 134), (4484, 111), (369003, 130), (2500, 150), (1878, 128), (95011, 1), (30349, 108), (6305, 106), (2351, 158), (347826, 100), (5467, 133), (4553, 138), (1671, 129), (42, 120)]"
   ]
  },
  {
   "cell_type": "code",
   "execution_count": 102,
   "metadata": {},
   "outputs": [
    {
     "name": "stderr",
     "output_type": "stream",
     "text": [
      "/Users/Antoine/anaconda3/lib/python3.5/site-packages/urllib3/connectionpool.py:858: InsecureRequestWarning: Unverified HTTPS request is being made. Adding certificate verification is strongly advised. See: https://urllib3.readthedocs.io/en/latest/advanced-usage.html#ssl-warnings\n",
      "  InsecureRequestWarning)\n",
      "/Users/Antoine/anaconda3/lib/python3.5/site-packages/urllib3/connectionpool.py:858: InsecureRequestWarning: Unverified HTTPS request is being made. Adding certificate verification is strongly advised. See: https://urllib3.readthedocs.io/en/latest/advanced-usage.html#ssl-warnings\n",
      "  InsecureRequestWarning)\n"
     ]
    },
    {
     "name": "stdout",
     "output_type": "stream",
     "text": [
      "Done!\n"
     ]
    },
    {
     "name": "stderr",
     "output_type": "stream",
     "text": [
      "/Users/Antoine/anaconda3/lib/python3.5/site-packages/urllib3/connectionpool.py:858: InsecureRequestWarning: Unverified HTTPS request is being made. Adding certificate verification is strongly advised. See: https://urllib3.readthedocs.io/en/latest/advanced-usage.html#ssl-warnings\n",
      "  InsecureRequestWarning)\n"
     ]
    },
    {
     "name": "stdout",
     "output_type": "stream",
     "text": [
      "{'values': {'2012-01-01': [{'asset': {'quantity': 1878.0, 'asset': 128}}, {'asset': {'quantity': 95011.0, 'asset': 1}}, {'asset': {'quantity': 1671.0, 'asset': 129}}, {'asset': {'quantity': 369003.0, 'asset': 130}}, {'asset': {'quantity': 1473.0, 'asset': 132}}, {'asset': {'quantity': 347826.0, 'asset': 100}}, {'asset': {'quantity': 5467.0, 'asset': 133}}, {'asset': {'quantity': 4118.0, 'asset': 134}}, {'asset': {'quantity': 3284.0, 'asset': 103}}, {'asset': {'quantity': 21588.0, 'asset': 104}}, {'asset': {'quantity': 6305.0, 'asset': 106}}, {'asset': {'quantity': 4553.0, 'asset': 138}}, {'asset': {'quantity': 1036.0, 'asset': 107}}, {'asset': {'quantity': 5943.0, 'asset': 11}}, {'asset': {'quantity': 30349.0, 'asset': 108}}, {'asset': {'quantity': 4484.0, 'asset': 111}}, {'asset': {'quantity': 2500.0, 'asset': 150}}, {'asset': {'quantity': 15363.0, 'asset': 152}}, {'asset': {'quantity': 42.0, 'asset': 120}}, {'asset': {'quantity': 2351.0, 'asset': 158}}]}, 'type': 'front', 'currency': {'code': 'EUR'}, 'label': 'PORTFOLIO_USER6'}\n"
     ]
    }
   ],
   "source": [
    "import json\n",
    "\n",
    "url = \"https://dolphin.jump-technology.com:3389/api/v1/portfolio/\" + id + \"/dyn_amount_compo\"\n",
    "r = s.get(url, verify=False)\n",
    "port = r.json()\n",
    "\n",
    "vect = [{\"asset\": {\"quantity\": x[0], \"asset\": x[1]}} for x in assets]\n",
    "values = {\"2012-01-01\": vect}\n",
    "port[\"values\"] = values\n",
    "r = s.put(url, data = json.dumps(port), verify=False)\n",
    "if r.status_code == 200:\n",
    "    print(\"Done!\")\n",
    "    print(s.get(url, verify=False).json())\n",
    "else:\n",
    "    print(r.status_code)\n",
    "    print(r.json())\n",
    "    print(\"An error occured\")"
   ]
  },
  {
   "cell_type": "code",
   "execution_count": 90,
   "metadata": {},
   "outputs": [],
   "source": [
    "weights = [(0.01, 104), (0.01, 132), (0.01, 107), (0.01, 103), (0.01, 11), (0.05, 152), (0.01, 134), (0.01, 111), (0.2, 130), (0.01, 150), (0.01, 128), (0.2, 1), (0.2, 108), (0.01, 106), (0.01, 158), (0.2, 100), (0.01, 133), (0.01, 138), (0.01, 129), (0.01, 120)]"
   ]
  },
  {
   "cell_type": "code",
   "execution_count": 92,
   "metadata": {
    "scrolled": true
   },
   "outputs": [
    {
     "name": "stderr",
     "output_type": "stream",
     "text": [
      "/Users/Antoine/anaconda3/lib/python3.5/site-packages/urllib3/connectionpool.py:858: InsecureRequestWarning: Unverified HTTPS request is being made. Adding certificate verification is strongly advised. See: https://urllib3.readthedocs.io/en/latest/advanced-usage.html#ssl-warnings\n",
      "  InsecureRequestWarning)\n",
      "/Users/Antoine/anaconda3/lib/python3.5/site-packages/urllib3/connectionpool.py:858: InsecureRequestWarning: Unverified HTTPS request is being made. Adding certificate verification is strongly advised. See: https://urllib3.readthedocs.io/en/latest/advanced-usage.html#ssl-warnings\n",
      "  InsecureRequestWarning)\n",
      "/Users/Antoine/anaconda3/lib/python3.5/site-packages/urllib3/connectionpool.py:858: InsecureRequestWarning: Unverified HTTPS request is being made. Adding certificate verification is strongly advised. See: https://urllib3.readthedocs.io/en/latest/advanced-usage.html#ssl-warnings\n",
      "  InsecureRequestWarning)\n",
      "/Users/Antoine/anaconda3/lib/python3.5/site-packages/urllib3/connectionpool.py:858: InsecureRequestWarning: Unverified HTTPS request is being made. Adding certificate verification is strongly advised. See: https://urllib3.readthedocs.io/en/latest/advanced-usage.html#ssl-warnings\n",
      "  InsecureRequestWarning)\n",
      "/Users/Antoine/anaconda3/lib/python3.5/site-packages/urllib3/connectionpool.py:858: InsecureRequestWarning: Unverified HTTPS request is being made. Adding certificate verification is strongly advised. See: https://urllib3.readthedocs.io/en/latest/advanced-usage.html#ssl-warnings\n",
      "  InsecureRequestWarning)\n",
      "/Users/Antoine/anaconda3/lib/python3.5/site-packages/urllib3/connectionpool.py:858: InsecureRequestWarning: Unverified HTTPS request is being made. Adding certificate verification is strongly advised. See: https://urllib3.readthedocs.io/en/latest/advanced-usage.html#ssl-warnings\n",
      "  InsecureRequestWarning)\n",
      "/Users/Antoine/anaconda3/lib/python3.5/site-packages/urllib3/connectionpool.py:858: InsecureRequestWarning: Unverified HTTPS request is being made. Adding certificate verification is strongly advised. See: https://urllib3.readthedocs.io/en/latest/advanced-usage.html#ssl-warnings\n",
      "  InsecureRequestWarning)\n",
      "/Users/Antoine/anaconda3/lib/python3.5/site-packages/urllib3/connectionpool.py:858: InsecureRequestWarning: Unverified HTTPS request is being made. Adding certificate verification is strongly advised. See: https://urllib3.readthedocs.io/en/latest/advanced-usage.html#ssl-warnings\n",
      "  InsecureRequestWarning)\n",
      "/Users/Antoine/anaconda3/lib/python3.5/site-packages/urllib3/connectionpool.py:858: InsecureRequestWarning: Unverified HTTPS request is being made. Adding certificate verification is strongly advised. See: https://urllib3.readthedocs.io/en/latest/advanced-usage.html#ssl-warnings\n",
      "  InsecureRequestWarning)\n",
      "/Users/Antoine/anaconda3/lib/python3.5/site-packages/urllib3/connectionpool.py:858: InsecureRequestWarning: Unverified HTTPS request is being made. Adding certificate verification is strongly advised. See: https://urllib3.readthedocs.io/en/latest/advanced-usage.html#ssl-warnings\n",
      "  InsecureRequestWarning)\n",
      "/Users/Antoine/anaconda3/lib/python3.5/site-packages/urllib3/connectionpool.py:858: InsecureRequestWarning: Unverified HTTPS request is being made. Adding certificate verification is strongly advised. See: https://urllib3.readthedocs.io/en/latest/advanced-usage.html#ssl-warnings\n",
      "  InsecureRequestWarning)\n",
      "/Users/Antoine/anaconda3/lib/python3.5/site-packages/urllib3/connectionpool.py:858: InsecureRequestWarning: Unverified HTTPS request is being made. Adding certificate verification is strongly advised. See: https://urllib3.readthedocs.io/en/latest/advanced-usage.html#ssl-warnings\n",
      "  InsecureRequestWarning)\n",
      "/Users/Antoine/anaconda3/lib/python3.5/site-packages/urllib3/connectionpool.py:858: InsecureRequestWarning: Unverified HTTPS request is being made. Adding certificate verification is strongly advised. See: https://urllib3.readthedocs.io/en/latest/advanced-usage.html#ssl-warnings\n",
      "  InsecureRequestWarning)\n",
      "/Users/Antoine/anaconda3/lib/python3.5/site-packages/urllib3/connectionpool.py:858: InsecureRequestWarning: Unverified HTTPS request is being made. Adding certificate verification is strongly advised. See: https://urllib3.readthedocs.io/en/latest/advanced-usage.html#ssl-warnings\n",
      "  InsecureRequestWarning)\n",
      "/Users/Antoine/anaconda3/lib/python3.5/site-packages/urllib3/connectionpool.py:858: InsecureRequestWarning: Unverified HTTPS request is being made. Adding certificate verification is strongly advised. See: https://urllib3.readthedocs.io/en/latest/advanced-usage.html#ssl-warnings\n",
      "  InsecureRequestWarning)\n",
      "/Users/Antoine/anaconda3/lib/python3.5/site-packages/urllib3/connectionpool.py:858: InsecureRequestWarning: Unverified HTTPS request is being made. Adding certificate verification is strongly advised. See: https://urllib3.readthedocs.io/en/latest/advanced-usage.html#ssl-warnings\n",
      "  InsecureRequestWarning)\n",
      "/Users/Antoine/anaconda3/lib/python3.5/site-packages/urllib3/connectionpool.py:858: InsecureRequestWarning: Unverified HTTPS request is being made. Adding certificate verification is strongly advised. See: https://urllib3.readthedocs.io/en/latest/advanced-usage.html#ssl-warnings\n",
      "  InsecureRequestWarning)\n",
      "/Users/Antoine/anaconda3/lib/python3.5/site-packages/urllib3/connectionpool.py:858: InsecureRequestWarning: Unverified HTTPS request is being made. Adding certificate verification is strongly advised. See: https://urllib3.readthedocs.io/en/latest/advanced-usage.html#ssl-warnings\n",
      "  InsecureRequestWarning)\n",
      "/Users/Antoine/anaconda3/lib/python3.5/site-packages/urllib3/connectionpool.py:858: InsecureRequestWarning: Unverified HTTPS request is being made. Adding certificate verification is strongly advised. See: https://urllib3.readthedocs.io/en/latest/advanced-usage.html#ssl-warnings\n",
      "  InsecureRequestWarning)\n",
      "/Users/Antoine/anaconda3/lib/python3.5/site-packages/urllib3/connectionpool.py:858: InsecureRequestWarning: Unverified HTTPS request is being made. Adding certificate verification is strongly advised. See: https://urllib3.readthedocs.io/en/latest/advanced-usage.html#ssl-warnings\n",
      "  InsecureRequestWarning)\n"
     ]
    },
    {
     "name": "stdout",
     "output_type": "stream",
     "text": [
      "[(21588, 104), (1473, 132), (1036, 107), (3284, 103), (5943, 11), (15363, 152), (4118, 134), (4484, 111), (369003, 130), (2500, 150), (1878, 128), (95011, 1), (30349, 108), (6305, 106), (2351, 158), (347826, 100), (5467, 133), (4553, 138), (1671, 129), (42, 120)]\n"
     ]
    }
   ],
   "source": [
    "prices = []\n",
    "assets = []\n",
    "for x in weights:\n",
    "    url = \"https://dolphin.jump-technology.com:3389/api/v1/asset/\" + str(x[1]) + \"/quote?start_date=2012-01-01&end_date=2012-01-30\"\n",
    "    r = s.get(url, verify=False)\n",
    "    prices.append(r.json()[0][\"open\"])\n",
    "    assets.append((int(10000000 * x[0] / r.json()[0][\"open\"]),x[1]))\n",
    "print(assets)"
   ]
  },
  {
   "cell_type": "code",
   "execution_count": 94,
   "metadata": {},
   "outputs": [
    {
     "data": {
      "text/plain": [
       "9999728.3960000016"
      ]
     },
     "execution_count": 94,
     "metadata": {},
     "output_type": "execute_result"
    }
   ],
   "source": [
    "import numpy as np\n",
    "np.sum([prices[i] * assets[i][0] for i in range(len(assets))])"
   ]
  },
  {
   "cell_type": "code",
   "execution_count": 95,
   "metadata": {},
   "outputs": [
    {
     "name": "stdout",
     "output_type": "stream",
     "text": [
      "[(21588, 104), (1473, 132), (1036, 107), (3284, 103), (5943, 11), (15363, 152), (4118, 134), (4484, 111), (369003, 130), (2500, 150), (1878, 128), (95011, 1), (30349, 108), (6305, 106), (2351, 158), (347826, 100), (5467, 133), (4553, 138), (1671, 129), (42, 120)]\n"
     ]
    }
   ],
   "source": [
    "print(assets)"
   ]
  },
  {
   "cell_type": "code",
   "execution_count": null,
   "metadata": {
    "collapsed": true
   },
   "outputs": [],
   "source": []
  }
 ],
 "metadata": {
  "kernelspec": {
   "display_name": "Python 3",
   "language": "python",
   "name": "python3"
  },
  "language_info": {
   "codemirror_mode": {
    "name": "ipython",
    "version": 3
   },
   "file_extension": ".py",
   "mimetype": "text/x-python",
   "name": "python",
   "nbconvert_exporter": "python",
   "pygments_lexer": "ipython3",
   "version": "3.5.4"
  }
 },
 "nbformat": 4,
 "nbformat_minor": 2
}
